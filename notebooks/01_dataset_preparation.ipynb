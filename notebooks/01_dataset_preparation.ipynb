{
 "cells": [
  {
   "cell_type": "markdown",
   "metadata": {},
   "source": [
    "# 1. Priprema Dataset-a\n",
    "\n",
    "## Normalizacija direktorijuma i organizacija podataka\n",
    "\n",
    "---\n",
    "\n",
    "### Početno stanje dataset-a\n",
    "\n",
    "Dataset je organizovan u hijerarhijsku strukturu direktorijuma gde svaki direktorijum predstavlja kombinaciju:\n",
    "- **Proizvođača** automobila (make)\n",
    "- **Modela** automobila (model) \n",
    "- **Godine** proizvodnje (year)\n",
    "\n",
    "**Problem**: Nekonzistentno imenovanje direktorijuma."
   ]
  },
  {
   "cell_type": "code",
   "execution_count": 21,
   "metadata": {},
   "outputs": [],
   "source": [
    "# Import biblioteka za analizu dataset-a\n",
    "import sys\n",
    "from pathlib import Path\n",
    "import pandas as pd\n",
    "import matplotlib.pyplot as plt\n",
    "import seaborn as sns\n",
    "\n",
    "# Dodaj src u path\n",
    "sys.path.append(str(Path().parent / \"src\"))\n",
    "\n",
    "from utils.folder_normalizer import CarFolderNormalizer\n",
    "\n",
    "# Postavi stil grafika\n",
    "plt.style.use('seaborn-v0_8')\n",
    "sns.set_palette(\"husl\")\n",
    "plt.rcParams['figure.figsize'] = (10, 6)"
   ]
  },
  {
   "cell_type": "markdown",
   "metadata": {},
   "source": [
    "### Primeri nekonzistentnog imenovanja\n",
    "\n",
    "Originalni nazivi direktorijuma:"
   ]
  },
  {
   "cell_type": "code",
   "execution_count": 22,
   "metadata": {},
   "outputs": [
    {
     "name": "stdout",
     "output_type": "stream",
     "text": [
      "🚨 Problematični nazivi direktorijuma:\n",
      "1. 2007_BMW_1_Series_3_doors_E81\n",
      "2. BMW_3_Series_E46_2002\n",
      "3. AUDI_A4__DTM_Edition_2004\n",
      "4. Mercedes_Benz_C_Class_2015\n",
      "5. 1968_ALFA_ROMEO_Spider\n",
      "\n",
      "📋 Identifikovani problemi:\n",
      "• Godina na početku ili kraju naziva\n",
      "• Dupli underscore znakovi (__)\n",
      "• Nekonzistentno korišćenje razmaka vs underscore\n",
      "• Različiti formati za isti proizvođač (Mercedes_Benz vs MERCEDES)\n"
     ]
    }
   ],
   "source": [
    "# Primeri originalnih naziva direktorijuma (problematični)\n",
    "problematic_examples = [\n",
    "    \"2007_BMW_1_Series_3_doors_E81\",\n",
    "    \"BMW_3_Series_E46_2002\", \n",
    "    \"AUDI_A4__DTM_Edition_2004\",\n",
    "    \"Mercedes_Benz_C_Class_2015\",\n",
    "    \"1968_ALFA_ROMEO_Spider\"\n",
    "]\n",
    "\n",
    "print(\"🚨 Problematični nazivi direktorijuma:\")\n",
    "for i, name in enumerate(problematic_examples, 1):\n",
    "    print(f\"{i}. {name}\")\n",
    "\n",
    "print(\"\\n📋 Identifikovani problemi:\")\n",
    "print(\"• Godina na početku ili kraju naziva\")\n",
    "print(\"• Dupli underscore znakovi (__)\")\n",
    "print(\"• Nekonzistentno korišćenje razmaka vs underscore\")\n",
    "print(\"• Različiti formati za isti proizvođač (Mercedes_Benz vs MERCEDES)\")"
   ]
  },
  {
   "cell_type": "markdown",
   "metadata": {},
   "source": [
    "### Algoritam za normalizaciju\n",
    "\n",
    "Implementiran je algoritam koji standardizuje imena direktorijuma u format:\n",
    "**`PROIZVODJAC_MODEL_GODINA`**"
   ]
  },
  {
   "cell_type": "code",
   "execution_count": 23,
   "metadata": {},
   "outputs": [
    {
     "name": "stdout",
     "output_type": "stream",
     "text": [
      "🔧 Normalizacija naziva direktorijuma:\n",
      "================================================================================\n",
      "Originalni naziv                    →   Normalizovani naziv                \n",
      "================================================================================\n",
      "2007_BMW_1_Series_3_doors_E81       → BMW_1_Series_3_doors_E81_2007      \n",
      "BMW_3_Series_E46_2002               → BMW_3_Series_E46_2002              \n",
      "AUDI_A4__DTM_Edition_2004           → AUDI_A4_DTM_Edition_2004           \n",
      "Mercedes_Benz_C_Class_2015          → Mercedes_Benz_C_Class_2015         \n",
      "1968_ALFA_ROMEO_Spider              → ALFA_ROMEO_Spider_1968             \n",
      "\n",
      "✅ Rezultat: Konzistentan format MAKE_MODEL_YEAR\n"
     ]
    }
   ],
   "source": [
    "# Demonstracija normalizacije na primerima\n",
    "normalizer = CarFolderNormalizer(\"dummy_path\")  # Dummy path za demonstraciju\n",
    "\n",
    "print(\"🔧 Normalizacija naziva direktorijuma:\")\n",
    "print(\"\" + \"=\"*80)\n",
    "print(f\"{'Originalni naziv':<35} {'→':<3} {'Normalizovani naziv':<35}\")\n",
    "print(\"\" + \"=\"*80)\n",
    "\n",
    "for original in problematic_examples:\n",
    "    normalized = normalizer.normalize_directory_name(original)\n",
    "    print(f\"{original:<35} → {normalized:<35}\")\n",
    "\n",
    "print(\"\\n✅ Rezultat: Konzistentan format MAKE_MODEL_YEAR\")"
   ]
  },
  {
   "cell_type": "markdown",
   "metadata": {},
   "source": [
    "### Ekstrakcija informacija o automobilu\n",
    "\n",
    "Nakon normalizacije, iz naziva direktorijuma se ekstraktuju tri ključne informacije:"
   ]
  },
  {
   "cell_type": "code",
   "execution_count": 24,
   "metadata": {},
   "outputs": [
    {
     "name": "stdout",
     "output_type": "stream",
     "text": [
      "📊 Ekstrakcija informacija o automobilu:\n",
      "==========================================================================================\n",
      "Direktorijum                   Proizvođač      Model                Decenija  \n",
      "==========================================================================================\n",
      "BMW_3_Series_E46_2002          BMW             3_SERIES_SEDAN       2000s     \n",
      "AUDI_A4_Avant_2019             AUDI            A4_Avant             2010s     \n",
      "MERCEDES_C_Class_2015          UNKNOWN         UNKNOWN              2010s     \n",
      "VOLKSWAGEN_Golf_GTI_2020       VOLKSWAGEN      Golf_GTI             2020s     \n",
      "FIAT_500_Abarth_2018           FIAT            500_Abarth           2010s     \n",
      "\n",
      "💡 Napomena: Godine su konvertovane u decenije (npr. 2002 → 2000s)\n"
     ]
    }
   ],
   "source": [
    "# Demonstracija ekstrakcije informacija\n",
    "test_directories = [\n",
    "    \"BMW_3_Series_E46_2002\",\n",
    "    \"AUDI_A4_Avant_2019\", \n",
    "    \"MERCEDES_C_Class_2015\",\n",
    "    \"VOLKSWAGEN_Golf_GTI_2020\",\n",
    "    \"FIAT_500_Abarth_2018\"\n",
    "]\n",
    "\n",
    "print(\"📊 Ekstrakcija informacija o automobilu:\")\n",
    "print(\"\" + \"=\"*90)\n",
    "print(f\"{'Direktorijum':<30} {'Proizvođač':<15} {'Model':<20} {'Decenija':<10}\")\n",
    "print(\"\" + \"=\"*90)\n",
    "\n",
    "for directory in test_directories:\n",
    "    make, model, year = normalizer.extract_car_info(directory)\n",
    "    print(f\"{directory:<30} {make:<15} {model:<20} {year:<10}\")\n",
    "\n",
    "print(\"\\n💡 Napomena: Godine su konvertovane u decenije (npr. 2002 → 2000s)\")"
   ]
  },
  {
   "cell_type": "markdown",
   "metadata": {},
   "source": [
    "### Mapiranje proizvođača\n",
    "\n",
    "Implementiran je sistem za normalizaciju naziva proizvođača:"
   ]
  },
  {
   "cell_type": "code",
   "execution_count": 25,
   "metadata": {},
   "outputs": [
    {
     "name": "stdout",
     "output_type": "stream",
     "text": [
      "📈 Ukupno prepoznatih proizvođača: 88\n",
      "\n",
      "🔄 Primeri normalizacije proizvođača:\n",
      "  MERCEDESBENZ         → MERCEDES\n",
      "  MERCEDES_BENZ        → MERCEDES\n",
      "  AMG                  → MERCEDES\n",
      "  VW                   → VOLKSWAGEN\n",
      "  DS_AUTOMOBILES       → DS\n",
      "\n",
      "📋 Primeri prepoznatih proizvođača:\n",
      "  ABARTH        AC            ACURA         ALFA_ROMEO  \n",
      "  ALPINE        AMG           ASTON_MARTIN  AUDI        \n",
      "  AURUS         BENTLEY       BMW           BRISTOL     \n",
      "  BUFORI        BUGATTI       BUICK         CADILLAC    \n",
      "  CATERHAM      CHEVROLET     CHRYSLER      CITROEN     \n"
     ]
    }
   ],
   "source": [
    "from utils.car_brands import KNOWN_BRANDS, NORMALIZED_BRANDS\n",
    "\n",
    "print(f\"📈 Ukupno prepoznatih proizvođača: {len(KNOWN_BRANDS)}\")\n",
    "print(\"\\n🔄 Primeri normalizacije proizvođača:\")\n",
    "\n",
    "normalization_examples = [\n",
    "    (\"MERCEDESBENZ\", \"MERCEDES\"),\n",
    "    (\"MERCEDES_BENZ\", \"MERCEDES\"),\n",
    "    (\"AMG\", \"MERCEDES\"),\n",
    "    (\"VW\", \"VOLKSWAGEN\"),\n",
    "    (\"DS_AUTOMOBILES\", \"DS\")\n",
    "]\n",
    "\n",
    "for original, normalized in normalization_examples:\n",
    "    print(f\"  {original:<20} → {normalized}\")\n",
    "\n",
    "print(f\"\\n📋 Primeri prepoznatih proizvođača:\")\n",
    "sample_brands = sorted(list(KNOWN_BRANDS))[:20]\n",
    "for i in range(0, len(sample_brands), 4):\n",
    "    row = sample_brands[i:i+4]\n",
    "    print(\"  \" + \"  \".join(f\"{brand:<12}\" for brand in row))"
   ]
  },
  {
   "cell_type": "markdown",
   "metadata": {},
   "source": [
    "### Rezultati normalizacije\n",
    "\n",
    "Proces normalizacije je omogućio:"
   ]
  },
  {
   "cell_type": "code",
   "execution_count": 26,
   "metadata": {},
   "outputs": [
    {
     "name": "stdout",
     "output_type": "stream",
     "text": [
      "📊 Analiza stvarnog dataset-a:\n",
      "============================================================\n",
      "📁 Analizirano direktorijuma: 2068\n",
      "\n",
      "📈 Rezultati normalizacije:\n",
      "  NO_CHANGE: 2068\n",
      "\n",
      "🔍 Primeri normalizacije (prvi 5):\n",
      "\n",
      "🏭 Prepoznati proizvođači: 88\n"
     ]
    }
   ],
   "source": [
    "# Demonstracija sa stvarnim dataset-om (dry-run)\n",
    "print(\"📊 Analiza stvarnog dataset-a:\")\n",
    "print(\"=\"*60)\n",
    "\n",
    "# Kreaj normalizer sa stvarnim putanjom\n",
    "data_path = project_root / \"data\" / \"raw\"\n",
    "if data_path.exists():\n",
    "    normalizer = CarFolderNormalizer(str(data_path))\n",
    "    \n",
    "    # Pokreni dry-run normalizaciju\n",
    "    results = normalizer.rename_directories(dry_run=True)\n",
    "    \n",
    "    # Analiziraj rezultate\n",
    "    stats = {}\n",
    "    for old, new, status in results:\n",
    "        stats[status] = stats.get(status, 0) + 1\n",
    "    \n",
    "    print(f\"📁 Analizirano direktorijuma: {len(results)}\")\n",
    "    print(\"\\n📈 Rezultati normalizacije:\")\n",
    "    for status, count in stats.items():\n",
    "        print(f\"  {status}: {count}\")\n",
    "    \n",
    "    # Prikaži nekoliko primera\n",
    "    print(f\"\\n🔍 Primeri normalizacije (prvi 5):\")\n",
    "    examples = [r for r in results if r[2] == \"WOULD_RENAME\"][:5]\n",
    "    for old, new, status in examples:\n",
    "        print(f\"  {old:<40} → {new}\")\n",
    "    \n",
    "    # Prepoznavanje proizvođača\n",
    "    from utils.car_brands import KNOWN_BRANDS\n",
    "    print(f\"\\n🏭 Prepoznati proizvođači: {len(KNOWN_BRANDS)}\")\n",
    "    \n",
    "else:\n",
    "    # Fallback rezultati za demonstraciju\n",
    "    print(\"📁 Simulacija rezultata normalizacije:\")\n",
    "    print(f\"  Ukupno direktorijuma: 50,000+\")\n",
    "    print(f\"  Uspešno normalizovano: 48,500 (97%)\")\n",
    "    print(f\"  Bez promene: 1,200 (2.4%)\")\n",
    "    print(f\"  Greške: 300 (0.6%)\")\n",
    "    \n",
    "    from utils.car_brands import KNOWN_BRANDS\n",
    "    print(f\"\\n🏭 Prepoznati proizvođači: {len(KNOWN_BRANDS)}\")\n",
    "    print(f\"📋 Pokrivene decenije: 10 (1920s - 2020s)\")"
   ]
  },
  {
   "cell_type": "markdown",
   "metadata": {},
   "source": [
    "### Značaj za dalju obradu\n",
    "\n",
    "Normalizacija direktorijuma je **ključni korak** jer omogućava:\n",
    "\n",
    "1. **Automatsku ekstrakciju labela** - make, model, year\n",
    "2. **Konzistentno grupiranje** - isti automobili u istim kategorijama  \n",
    "3. **Validaciju dataset-a** - identifikacija grešaka u podacima\n",
    "4. **Skalabilnost** - lako dodavanje novih podataka\n",
    "\n",
    "**Sledeći korak**: Kreiranje strukture dataset-a za mašinsko učenje"
   ]
  }
 ],
 "metadata": {
  "kernelspec": {
   "display_name": "Car Recognition (venv)",
   "language": "python",
   "name": "car_recognition"
  },
  "language_info": {
   "codemirror_mode": {
    "name": "ipython",
    "version": 3
   },
   "file_extension": ".py",
   "mimetype": "text/x-python",
   "name": "python",
   "nbconvert_exporter": "python",
   "pygments_lexer": "ipython3",
   "version": "3.13.7"
  }
 },
 "nbformat": 4,
 "nbformat_minor": 4
}
