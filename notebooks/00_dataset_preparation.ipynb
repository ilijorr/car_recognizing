{
 "cells": [
  {
   "cell_type": "markdown",
   "id": "b525a9a4-bb14-4927-9783-ce9e44006456",
   "metadata": {},
   "source": [
    "# STEP 0: Preparing the dataset\n",
    "\n",
    "The dataset used for the project is `car-models` by `natsu39`, found on HuggingFace([here](https://huggingface.co/datasets/natsu39/car-models)). The dataset itself has no metadata, or formatting rules, so we have to analyze the data itself before doing anything with it.\n",
    "\n",
    "## Cloning the dataset\n",
    "\n",
    "To clone the dataset, make sure you have `git` and `git-lfs` packages installed. If you don't have the large file structure package, git will download file pointers and not the real images.\n",
    "\n",
    "Navigate to your data directory, and run `git lfs clone https://huggingface.co/datasets/natsu39/car-models`. \\\n",
    "For project purposes, rename the downloaded directory `mv car-models raw`.\n",
    "\n",
    "## (Optional) Removing zone identifier files\n",
    "\n",
    "The dataset author left the Windows generated zone identifier files. That doesn't make any difference since the project doesn't use them, but for clarity sake all of them can be removed by running `find /path/to/your/directory -name \"*.Identifier\" -type f -delete`, with the appropriate path."
   ]
  }
 ],
 "metadata": {
  "kernelspec": {
   "display_name": "Python 3 (ipykernel)",
   "language": "python",
   "name": "python3"
  },
  "language_info": {
   "codemirror_mode": {
    "name": "ipython",
    "version": 3
   },
   "file_extension": ".py",
   "mimetype": "text/x-python",
   "name": "python",
   "nbconvert_exporter": "python",
   "pygments_lexer": "ipython3",
   "version": "3.13.7"
  }
 },
 "nbformat": 4,
 "nbformat_minor": 5
}
